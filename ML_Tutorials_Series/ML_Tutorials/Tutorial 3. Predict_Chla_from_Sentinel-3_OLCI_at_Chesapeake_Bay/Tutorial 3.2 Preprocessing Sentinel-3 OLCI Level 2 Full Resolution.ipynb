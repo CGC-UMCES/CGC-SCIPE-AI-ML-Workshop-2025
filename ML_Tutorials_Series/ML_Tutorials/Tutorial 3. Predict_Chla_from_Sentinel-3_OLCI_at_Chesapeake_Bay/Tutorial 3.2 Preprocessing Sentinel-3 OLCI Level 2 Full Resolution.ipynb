{
 "cells": [
  {
   "cell_type": "markdown",
   "id": "2c6ccd35-89a0-47b4-b90e-5722f1e8f7b0",
   "metadata": {},
   "source": [
    "# Tutorial 3.2 Preprocessing the Sentinel-3 OLCI Level 2 Full Resolution (View-only)\n",
    "\n",
    "This notebook is **Step 2** for the *Predicting Chla from Sentinel-3 OLCI at Chesapeake Bay Area Tutorial Series*.\n",
    "\n",
    "> ⚠️ **Note (Must Read):** Please consider not to run this script during the workshop, data downloading is **not recommended** during the workshop. OLCI products are very large. You are welcome to do your own data downloading exercise at home with enough data storage. You will have the opportunity to use **pre-extracted image patches** that are already matched with CBP in-situ data and ready for model training in the Tutorial 3.4.\n",
    "\n",
    "### 3.2.1 Introduction\n",
    "\n",
    "In this section, we download Sentinel-3 OLCI L2 water color data to match the in-situ Chla measurements from CBP.\n",
    "\n",
    "We use the [WEkEO Sentinel-3 Ocean Color tutorial](https://github.com/wekeo/learn-olci/tree/main/2_OLCI_advanced) as a reference for downloading, exploring, and processing OLCI data.\n",
    "\n",
    "To access Sentinel-3 data via API, we use the [`eumdac`](https://pypi.org/project/eumdac/) Python client, which requires a valid EUMETSAT account and credentials.\n",
    "\n",
    "For instructions on setting up the API and retrieving credentials, also refer to this official tutorial:\n",
    "\n",
    "📎 [OLCI Data Access — WEkEO GitHub Tutorial](https://github.com/wekeo/learn-olci/blob/f4b96389bd69dd5fcf08eaebe07ffd91df92e50a/1_OLCI_introductory/1_1a_OLCI_data_access_Data_Store.ipynb)\n",
    "\n",
    "\n",
    "This script performs:\n",
    "- Setup of the EUMDAC API\n",
    "- Uses the in-situ dates from `averaged_layer_S.csv`\n",
    "- Searches for OLCI L2 products within ±2 days of each in-situ sampling date\n",
    "- Downloads and unzips the products into a local `products/` folder\n",
    "\n",
    "🛰️ The dataset used: **EO:EUM:DAT:0407 (Sentinel-3 OLCI L2 Water Colour Full Resolution)**\n"
   ]
  },
  {
   "cell_type": "markdown",
   "id": "362b10a0-72c2-4776-babb-59240ee2ee2f",
   "metadata": {},
   "source": [
    "### 3.2.2 Setup & Load CBP Dates"
   ]
  },
  {
   "cell_type": "code",
   "execution_count": null,
   "id": "a5922057-550d-422c-8628-5d85c9378480",
   "metadata": {},
   "outputs": [],
   "source": [
    "import os\n",
    "import shutil\n",
    "import zipfile\n",
    "import datetime\n",
    "from pathlib import Path\n",
    "from shapely import geometry\n",
    "import pandas as pd\n",
    "import eumdac"
   ]
  },
  {
   "cell_type": "code",
   "execution_count": null,
   "id": "89cee385-3995-4192-9f3d-52e82c83843d",
   "metadata": {},
   "outputs": [],
   "source": [
    "# # === Load unique CBP sampling dates ===\n",
    "# cbp_df = pd.read_csv(\"CleanedData/averaged_layer_S.csv\", parse_dates=[\"SampleDate\"])\n",
    "# unique_dates = sorted(cbp_df[\"SampleDate\"].dt.date.unique())\n",
    "# print(f\"🗓️  Loaded {len(unique_dates)} unique CBP sample dates.\")\n"
   ]
  },
  {
   "cell_type": "markdown",
   "id": "95666cb4-659c-4034-a5e7-a2c81a788f69",
   "metadata": {},
   "source": [
    "### 3.2.3 Setup EUMDAC Token"
   ]
  },
  {
   "cell_type": "code",
   "execution_count": null,
   "id": "3c4090de-f454-4d5f-b133-8726aec291f1",
   "metadata": {},
   "outputs": [],
   "source": [
    "# # === Setup EUMDAC authentication ===\n",
    "# credentials_file = os.path.join(os.path.expanduser(\"~\"), '.eumdac', 'credentials')\n",
    "# creds = Path(credentials_file).read_text().split(',')\n",
    "# token = eumdac.AccessToken((creds[0], creds[1]))\n",
    "# store = eumdac.DataStore(token)\n",
    "\n",
    "# # === Load Sentinel-3 OLCI L2 water colour product collection ===\n",
    "# collection = store.get_collection(\"EO:EUM:DAT:0407\")\n"
   ]
  },
  {
   "cell_type": "markdown",
   "id": "e87dca2e-54f8-42cd-bfce-9917c4279e05",
   "metadata": {},
   "source": [
    "### 3.2.4 Define ROI and Output Folder"
   ]
  },
  {
   "cell_type": "code",
   "execution_count": null,
   "id": "417dd1a7-883d-48e4-9a70-62d2baebf074",
   "metadata": {},
   "outputs": [],
   "source": [
    "# # === Define Chesapeake Bay ROI ===\n",
    "# north, south = 39.49, 36.92\n",
    "# east, west = -75.95, -76.52\n",
    "# ROI_WKT = geometry.Polygon([\n",
    "#     (west, south), (east, south), (east, north), (west, north), (west, south)\n",
    "# ])\n",
    "\n",
    "# # === Create download folder ===\n",
    "# download_dir = \"products\"\n",
    "# os.makedirs(download_dir, exist_ok=True)\n"
   ]
  },
  {
   "cell_type": "markdown",
   "id": "611d339b-e81a-4d76-8202-bd846f089063",
   "metadata": {},
   "source": [
    "### 3.2.5 Downloading ±2 days Products"
   ]
  },
  {
   "cell_type": "code",
   "execution_count": null,
   "id": "14f08feb-e5be-40c5-b169-4a496c080ecd",
   "metadata": {},
   "outputs": [],
   "source": [
    "# # === Check if product already downloaded for a given date ===\n",
    "# def is_downloaded(date):\n",
    "#     return any(date.strftime(\"%Y%m%d\") in fname for fname in os.listdir(download_dir))\n",
    "\n",
    "# # === Search products within ±2 days of the date ===\n",
    "# def find_products_around(date):\n",
    "#     for delta in range(0, 3):\n",
    "#         for offset in [-delta, delta]:\n",
    "#             try_date = date + datetime.timedelta(days=offset)\n",
    "#             dtstart = datetime.datetime(try_date.year, try_date.month, try_date.day, 0, 0)\n",
    "#             dtend = datetime.datetime(try_date.year, try_date.month, try_date.day, 23, 59)\n",
    "#             products = collection.search(\n",
    "#                 geo=ROI_WKT,\n",
    "#                 dtstart=dtstart,\n",
    "#                 dtend=dtend,\n",
    "#                 timeliness=\"NT\",\n",
    "#                 sat=\"Sentinel-3A\"\n",
    "#             )\n",
    "#             dedup = {}\n",
    "#             for p in products:\n",
    "#                 tag = str(p).split(\"_\")[4]\n",
    "#                 if tag not in dedup:\n",
    "#                     dedup[tag] = p\n",
    "#             if dedup:\n",
    "#                 return list(dedup.values()), try_date\n",
    "#     return [], None\n",
    "\n",
    "# # === Download Sentinel-3 OLCI products for each date ===\n",
    "# for date in unique_dates:\n",
    "#     if is_downloaded(date):\n",
    "#         print(f\"✅ Already downloaded: {date}\")\n",
    "#         continue\n",
    "\n",
    "#     print(f\"\\n📅 Looking for products around {date}\")\n",
    "#     products, actual_date = find_products_around(date)\n",
    "\n",
    "#     if not products:\n",
    "#         print(f\"❌ No valid product found ±2 days around {date}\")\n",
    "#         continue\n",
    "\n",
    "#     print(f\"🎯 Found {len(products)} granules from {actual_date}\")\n",
    "#     for p in products:\n",
    "#         prod_id = p._id\n",
    "#         out_path = os.path.join(download_dir, prod_id)\n",
    "#         os.makedirs(out_path, exist_ok=True)\n",
    "\n",
    "#         zip_file = os.path.join(out_path, f\"{prod_id}.zip\")\n",
    "#         if os.path.exists(zip_file.replace(\".zip\", \"\")):\n",
    "#             print(f\"   ⏭️ Already exists: {prod_id}\")\n",
    "#             continue\n",
    "\n",
    "#         print(f\"⬇️ Downloading {prod_id}.zip\")\n",
    "#         with p.open() as src, open(zip_file, \"wb\") as dst:\n",
    "#             shutil.copyfileobj(src, dst)\n",
    "\n",
    "#         print(f\"📦 Unzipping {prod_id}\")\n",
    "#         with zipfile.ZipFile(zip_file, 'r') as zf:\n",
    "#             zf.extractall(out_path)\n",
    "#         os.remove(zip_file)\n",
    "\n",
    "#         print(f\"✅ Done: {prod_id}\")\n"
   ]
  }
 ],
 "metadata": {
  "kernelspec": {
   "display_name": "Python 3 (ipykernel)",
   "language": "python",
   "name": "python3"
  },
  "language_info": {
   "codemirror_mode": {
    "name": "ipython",
    "version": 3
   },
   "file_extension": ".py",
   "mimetype": "text/x-python",
   "name": "python",
   "nbconvert_exporter": "python",
   "pygments_lexer": "ipython3",
   "version": "3.10.17"
  }
 },
 "nbformat": 4,
 "nbformat_minor": 5
}
