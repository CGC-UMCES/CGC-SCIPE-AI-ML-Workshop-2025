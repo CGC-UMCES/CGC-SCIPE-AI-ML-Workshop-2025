{
 "cells": [
  {
   "cell_type": "code",
   "execution_count": 1,
   "id": "e06edbf4-a007-4819-91d5-dd2d1270f631",
   "metadata": {},
   "outputs": [
    {
     "name": "stdout",
     "output_type": "stream",
     "text": [
      "Requirement already satisfied: numpy in /opt/anaconda3/lib/python3.11/site-packages (from -r requirements_tutorial3.txt (line 1)) (1.26.4)\n",
      "Requirement already satisfied: pandas in /opt/anaconda3/lib/python3.11/site-packages (from -r requirements_tutorial3.txt (line 2)) (2.1.4)\n",
      "Requirement already satisfied: matplotlib in /opt/anaconda3/lib/python3.11/site-packages (from -r requirements_tutorial3.txt (line 3)) (3.9.2)\n",
      "Requirement already satisfied: seaborn in /opt/anaconda3/lib/python3.11/site-packages (from -r requirements_tutorial3.txt (line 4)) (0.12.2)\n",
      "Requirement already satisfied: scikit-learn in /opt/anaconda3/lib/python3.11/site-packages (from -r requirements_tutorial3.txt (line 5)) (1.2.2)\n",
      "Requirement already satisfied: xarray in /opt/anaconda3/lib/python3.11/site-packages (from -r requirements_tutorial3.txt (line 6)) (2023.6.0)\n",
      "Requirement already satisfied: shapely in /opt/anaconda3/lib/python3.11/site-packages (from -r requirements_tutorial3.txt (line 7)) (2.0.6)\n",
      "Requirement already satisfied: eumdac in /opt/anaconda3/lib/python3.11/site-packages (from -r requirements_tutorial3.txt (line 8)) (3.0.0)\n",
      "Requirement already satisfied: python-dateutil>=2.8.2 in /opt/anaconda3/lib/python3.11/site-packages (from pandas->-r requirements_tutorial3.txt (line 2)) (2.8.2)\n",
      "Requirement already satisfied: pytz>=2020.1 in /opt/anaconda3/lib/python3.11/site-packages (from pandas->-r requirements_tutorial3.txt (line 2)) (2023.3.post1)\n",
      "Requirement already satisfied: tzdata>=2022.1 in /opt/anaconda3/lib/python3.11/site-packages (from pandas->-r requirements_tutorial3.txt (line 2)) (2023.3)\n",
      "Requirement already satisfied: contourpy>=1.0.1 in /opt/anaconda3/lib/python3.11/site-packages (from matplotlib->-r requirements_tutorial3.txt (line 3)) (1.2.0)\n",
      "Requirement already satisfied: cycler>=0.10 in /opt/anaconda3/lib/python3.11/site-packages (from matplotlib->-r requirements_tutorial3.txt (line 3)) (0.11.0)\n",
      "Requirement already satisfied: fonttools>=4.22.0 in /opt/anaconda3/lib/python3.11/site-packages (from matplotlib->-r requirements_tutorial3.txt (line 3)) (4.25.0)\n",
      "Requirement already satisfied: kiwisolver>=1.3.1 in /opt/anaconda3/lib/python3.11/site-packages (from matplotlib->-r requirements_tutorial3.txt (line 3)) (1.4.4)\n",
      "Requirement already satisfied: packaging>=20.0 in /opt/anaconda3/lib/python3.11/site-packages (from matplotlib->-r requirements_tutorial3.txt (line 3)) (24.2)\n",
      "Requirement already satisfied: pillow>=8 in /opt/anaconda3/lib/python3.11/site-packages (from matplotlib->-r requirements_tutorial3.txt (line 3)) (10.4.0)\n",
      "Requirement already satisfied: pyparsing>=2.3.1 in /opt/anaconda3/lib/python3.11/site-packages (from matplotlib->-r requirements_tutorial3.txt (line 3)) (3.0.9)\n",
      "Requirement already satisfied: scipy>=1.3.2 in /opt/anaconda3/lib/python3.11/site-packages (from scikit-learn->-r requirements_tutorial3.txt (line 5)) (1.11.4)\n",
      "Requirement already satisfied: joblib>=1.1.1 in /opt/anaconda3/lib/python3.11/site-packages (from scikit-learn->-r requirements_tutorial3.txt (line 5)) (1.2.0)\n",
      "Requirement already satisfied: threadpoolctl>=2.0.0 in /opt/anaconda3/lib/python3.11/site-packages (from scikit-learn->-r requirements_tutorial3.txt (line 5)) (2.2.0)\n",
      "Requirement already satisfied: requests>=2.5.0 in /opt/anaconda3/lib/python3.11/site-packages (from eumdac->-r requirements_tutorial3.txt (line 8)) (2.32.3)\n",
      "Requirement already satisfied: pyyaml in /opt/anaconda3/lib/python3.11/site-packages (from eumdac->-r requirements_tutorial3.txt (line 8)) (6.0.1)\n",
      "Requirement already satisfied: urllib3 in /opt/anaconda3/lib/python3.11/site-packages (from eumdac->-r requirements_tutorial3.txt (line 8)) (2.0.7)\n",
      "Requirement already satisfied: six>=1.5 in /opt/anaconda3/lib/python3.11/site-packages (from python-dateutil>=2.8.2->pandas->-r requirements_tutorial3.txt (line 2)) (1.16.0)\n",
      "Requirement already satisfied: charset-normalizer<4,>=2 in /opt/anaconda3/lib/python3.11/site-packages (from requests>=2.5.0->eumdac->-r requirements_tutorial3.txt (line 8)) (2.0.4)\n",
      "Requirement already satisfied: idna<4,>=2.5 in /opt/anaconda3/lib/python3.11/site-packages (from requests>=2.5.0->eumdac->-r requirements_tutorial3.txt (line 8)) (3.4)\n",
      "Requirement already satisfied: certifi>=2017.4.17 in /opt/anaconda3/lib/python3.11/site-packages (from requests>=2.5.0->eumdac->-r requirements_tutorial3.txt (line 8)) (2025.4.26)\n",
      "\n",
      "\u001b[1m[\u001b[0m\u001b[34;49mnotice\u001b[0m\u001b[1;39;49m]\u001b[0m\u001b[39;49m A new release of pip is available: \u001b[0m\u001b[31;49m24.3.1\u001b[0m\u001b[39;49m -> \u001b[0m\u001b[32;49m25.1.1\u001b[0m\n",
      "\u001b[1m[\u001b[0m\u001b[34;49mnotice\u001b[0m\u001b[1;39;49m]\u001b[0m\u001b[39;49m To update, run: \u001b[0m\u001b[32;49mpip install --upgrade pip\u001b[0m\n"
     ]
    }
   ],
   "source": [
    "!pip install -r requirements_tutorial3.txt\n"
   ]
  },
  {
   "cell_type": "markdown",
   "id": "9564c912-0517-4fb6-a306-90ace3e8507c",
   "metadata": {},
   "source": [
    "# Tutorial 3.1 Preprocessing the CBP Chla Data\n",
    "\n",
    "### 3.1.1 Introduction\n",
    "\n",
    "This notebook is **Step 1** of the *Predicting Chla from Sentinel-3 OLCI at Chesapeake Bay Tutorial Series*.\n",
    "\n",
    "In this step, we preprocess Chesapeake Bay Program (CBP) in-situ chlorophyll-a (Chla) monitoring data for use with Sentinel-3 reflectance data.\n",
    "\n",
    "The raw data (`MainstemChla.csv`) is placed in the folder `CBP_RawData/`. This dataset was downloaded from the [Chesapeake Bay Program Water Quality Portal](https://datahub.chesapeakebay.net/)\n",
    "> If you need help downloading data from the CBP Datahub, refer to *Tutorial 1*.\n",
    "\n",
    "\n",
    "We focus on surface layer (`Layer = 'S'`) Chla measurements from **May 2020 to the present**, which matches the availability period of Sentinel-3 OLCI data.\n",
    "\n",
    "This step includes:\n",
    "- Filtering surface layer samples\n",
    "- Parsing and cleaning the sampling dates\n",
    "- Averaging repeated measurements at station at the same date\n",
    "- Saving the cleaned dataset for satellite matching\n",
    "\n",
    " *A map of the Mainstem stations used in this project is shown below.*\n"
   ]
  },
  {
   "cell_type": "markdown",
   "id": "1af8c393-6575-41c4-9bda-c977b02b4151",
   "metadata": {},
   "source": [
    "![Model Diagram](CBP_Mainstem_Station_Map.png)"
   ]
  },
  {
   "cell_type": "markdown",
   "id": "2b09934b-7704-46d7-9c25-8c999f6ead33",
   "metadata": {},
   "source": [
    "### 3.1.2 Load & Preview Raw Data"
   ]
  },
  {
   "cell_type": "code",
   "execution_count": 2,
   "id": "5e4c79bd-9c3e-4c1c-9559-ddb91e73b736",
   "metadata": {},
   "outputs": [
    {
     "ename": "ModuleNotFoundError",
     "evalue": "No module named 'pandas'",
     "output_type": "error",
     "traceback": [
      "\u001b[31m---------------------------------------------------------------------------\u001b[39m",
      "\u001b[31mModuleNotFoundError\u001b[39m                       Traceback (most recent call last)",
      "\u001b[36mCell\u001b[39m\u001b[36m \u001b[39m\u001b[32mIn[2]\u001b[39m\u001b[32m, line 1\u001b[39m\n\u001b[32m----> \u001b[39m\u001b[32m1\u001b[39m \u001b[38;5;28;01mimport\u001b[39;00m\u001b[38;5;250m \u001b[39m\u001b[34;01mpandas\u001b[39;00m\u001b[38;5;250m \u001b[39m\u001b[38;5;28;01mas\u001b[39;00m\u001b[38;5;250m \u001b[39m\u001b[34;01mpd\u001b[39;00m\n\u001b[32m      3\u001b[39m \u001b[38;5;66;03m# === Load raw data ===\u001b[39;00m\n\u001b[32m      4\u001b[39m file_path = \u001b[33m\"\u001b[39m\u001b[33mCBP_RawData/MainstemChla.csv\u001b[39m\u001b[33m\"\u001b[39m\n",
      "\u001b[31mModuleNotFoundError\u001b[39m: No module named 'pandas'"
     ]
    }
   ],
   "source": [
    "import pandas as pd\n",
    "\n",
    "# === Load raw data ===\n",
    "file_path = \"CBP_RawData/MainstemChla.csv\"\n",
    "df = pd.read_csv(file_path)\n",
    "\n",
    "# Preview full raw data (no column truncation)\n",
    "pd.set_option('display.max_columns', None)\n",
    "print(\"🔍 Raw data preview:\")\n",
    "display(df.head())\n"
   ]
  },
  {
   "cell_type": "markdown",
   "id": "4b0cb707-7cbf-4c5f-ad3b-0789c5a0217e",
   "metadata": {},
   "source": [
    "### 3.1.3 Filter and Process Data"
   ]
  },
  {
   "cell_type": "code",
   "execution_count": null,
   "id": "35888ac2-6898-4eb3-9d4f-11f7bace6f9d",
   "metadata": {},
   "outputs": [],
   "source": [
    "# === Filter to surface layer ===\n",
    "df_s_layer = df[df['Layer'].str.strip() == 'S'].copy()\n",
    "\n",
    "# === Convert SampleDate to datetime ===\n",
    "df_s_layer['SampleDate'] = pd.to_datetime(df_s_layer['SampleDate'], errors='coerce')\n",
    "\n",
    "# === Drop rows with missing Station or SampleDate ===\n",
    "df_s_layer = df_s_layer.dropna(subset=['SampleDate', 'Station'])\n",
    "\n",
    "# === Group by Station and SampleDate, take mean of numeric fields ===\n",
    "grouped_avg = df_s_layer.groupby(['Station', 'SampleDate'], as_index=False).mean(numeric_only=True)\n",
    "\n",
    "# === Select only relevant columns ===\n",
    "columns_to_keep = ['Station', 'SampleDate', 'MeasureValue', 'Latitude', 'Longitude']\n",
    "cleaned_df = grouped_avg[columns_to_keep]"
   ]
  },
  {
   "cell_type": "markdown",
   "id": "9b6957a5-99eb-4f0a-80e7-b7d27135fa4c",
   "metadata": {},
   "source": [
    "### 3.1.4 Exported Cleaned Surface Data"
   ]
  },
  {
   "cell_type": "code",
   "execution_count": null,
   "id": "793596d2-a0bf-4467-a101-fdeff5af3770",
   "metadata": {},
   "outputs": [],
   "source": [
    "import os\n",
    "\n",
    "# Create output folder if it doesn't exist\n",
    "os.makedirs(\"CleanedData\", exist_ok=True)\n",
    "\n",
    "# Preview final cleaned dataset\n",
    "print(\"✅ Final cleaned Chla data:\")\n",
    "display(cleaned_df.head())\n",
    "\n",
    "# Save to CleanedData\n",
    "output_path = \"CleanedData/averaged_layer_S.csv\"\n",
    "cleaned_df.to_csv(output_path, index=False)\n",
    "print(f\"✅ Saved to '{output_path}'\")\n"
   ]
  }
 ],
 "metadata": {
  "kernelspec": {
   "display_name": "Python 3 (ipykernel)",
   "language": "python",
   "name": "python3"
  },
  "language_info": {
   "codemirror_mode": {
    "name": "ipython",
    "version": 3
   },
   "file_extension": ".py",
   "mimetype": "text/x-python",
   "name": "python",
   "nbconvert_exporter": "python",
   "pygments_lexer": "ipython3",
   "version": "3.13.2"
  }
 },
 "nbformat": 4,
 "nbformat_minor": 5
}
